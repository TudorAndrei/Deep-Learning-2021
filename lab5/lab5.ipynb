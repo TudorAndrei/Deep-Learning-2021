{
 "cells": [
  {
   "cell_type": "code",
   "execution_count": 1,
   "metadata": {},
   "outputs": [],
   "source": [
    "import torch\n",
    "import numpy as np\n",
    "import cv2\n",
    "import glob\n",
    "import os\n",
    "\n",
    "device = torch.device('cuda')"
   ]
  },
  {
   "cell_type": "code",
   "execution_count": 2,
   "metadata": {},
   "outputs": [
    {
     "data": {
      "text/plain": [
       "device(type='cuda')"
      ]
     },
     "execution_count": 2,
     "metadata": {},
     "output_type": "execute_result"
    }
   ],
   "source": [
    "device"
   ]
  },
  {
   "cell_type": "code",
   "execution_count": 73,
   "metadata": {},
   "outputs": [],
   "source": [
    "class Dataset(torch.utils.data.Dataset):\n",
    "    def __init__(self, path):\n",
    "        super().__init__()\n",
    "        self.image_paths = glob.glob(path)\n",
    "        self.n_samples = len(self.image_paths)\n",
    "    \n",
    "    def __getitem__(self, sample_n):\n",
    "        img_path = self.image_paths[sample_n]\n",
    "        img = cv2.imread(img_path)\n",
    "        img = cv2.cvtColor(img, cv2.COLOR_BGR2GRAY)\n",
    "        img = np.expand_dims(img, 2)\n",
    "        img = img/255\n",
    "\n",
    "        label = int(os.path.basename(img_path).split(\"_\")[0])\n",
    "        return img, label\n",
    "        \n",
    "        \n",
    "    def __len__(self):\n",
    "        return self.n_samples"
   ]
  },
  {
   "cell_type": "code",
   "execution_count": 74,
   "metadata": {},
   "outputs": [],
   "source": [
    "train_ds = Dataset(\"../datasets/mnist/train/*\")\n",
    "# train_dl = torch.utils.data.dataloader(train_ds, batch_size=32)\n",
    "train_dl = torch.utils.data.DataLoader(\n",
    "    train_ds,\n",
    "    batch_size=128,\n",
    "    shuffle=True,\n",
    "    num_workers=4\n",
    ")"
   ]
  },
  {
   "cell_type": "code",
   "execution_count": 75,
   "metadata": {},
   "outputs": [],
   "source": [
    "val_ds = Dataset(\"../datasets/mnist/val/*\")\n",
    "# train_dl = torch.utils.data.dataloader(train_ds, batch_size=32)\n",
    "val_dl = torch.utils.data.DataLoader(\n",
    "    val_ds,\n",
    "    batch_size=128,\n",
    "    shuffle=True,\n",
    "    num_workers=4\n",
    ")"
   ]
  },
  {
   "cell_type": "code",
   "execution_count": 115,
   "metadata": {},
   "outputs": [],
   "source": [
    "class Model(torch.nn.Module):\n",
    "    def __init__(self):\n",
    "        super().__init__()\n",
    "        self.encoder = torch.nn.Sequential(\n",
    "        \n",
    "            torch.nn.Conv2d(1,32, kernel_size=3, stride=2),\n",
    "            torch.nn.ReLU(),\n",
    "            torch.nn.Conv2d(32,64, kernel_size=3, stride=2),\n",
    "            torch.nn.ReLU(),\n",
    "            torch.nn.Flatten(),\n",
    "            torch.nn.Linear(2304,10)\n",
    "        )\n",
    "        self.decoder0 = torch.nn.Sequential(\n",
    "            torch.nn.Linear(10,7*7*32),\n",
    "            torch.nn.ReLU(),)\n",
    "        self.decoder1 = torch.nn.Sequential(\n",
    "            torch.nn.Upsample(scale_factor=2),\n",
    "            torch.nn.ConvTranspose2d(32, 64, kernel_size=3, padding=1),\n",
    "            torch.nn.ReLU(),\n",
    "            torch.nn.Upsample(scale_factor=2),\n",
    "            torch.nn.ConvTranspose2d(64, 32, kernel_size=3, padding=1),\n",
    "            torch.nn.ReLU(),\n",
    "            torch.nn.ConvTranspose2d(32, 1, kernel_size=3, padding=1)\n",
    "        )\n",
    "\n",
    "        \n",
    "    def forward(self, x):\n",
    "        # print(x.shape)\n",
    "        out = self.encoder(x)\n",
    "        # print(out.shape)\n",
    "        out = self.decoder0(out)\n",
    "        out = out.reshape(-1, 32, 7 ,7)\n",
    "        out = self.decoder1(out)\n",
    "        return out"
   ]
  },
  {
   "cell_type": "code",
   "execution_count": 116,
   "metadata": {},
   "outputs": [],
   "source": [
    "model = Model().to(device)\n",
    "optimizer = torch.optim.Adam(model.parameters())\n",
    "# lossf = torch.nn.CrossEntropyLoss()\n",
    "lossf= torch.nn.BCEWithLogitsLoss()"
   ]
  },
  {
   "cell_type": "code",
   "execution_count": 119,
   "metadata": {},
   "outputs": [
    {
     "name": "stdout",
     "output_type": "stream",
     "text": [
      "0.0\n"
     ]
    }
   ],
   "source": [
    "epochs = 1\n",
    "\n",
    "for epoch in range(epochs):\n",
    "    for img, label in train_dl:\n",
    "        \n",
    "        optimizer.zero_grad()     \n",
    "        \n",
    "        img = img.float().to(device).permute(0,3,1,2)\n",
    "        # print()\n",
    "        # label = label.to(device)\n",
    "        \n",
    "        reconstruction = model(img)\n",
    "        # print(img.shape)\n",
    "        # print(reconstruction.shape)\n",
    "        \n",
    "        loss = lossf(reconstruction, img)\n",
    "        loss.backward()\n",
    "        \n",
    "        optimizer.step()\n",
    "    accs = []\n",
    "    for batch in val_dl:\n",
    "\n",
    "        img, label = batch\n",
    "        img = img.float().to(device).permute(0,3,1,2)\n",
    "        label = label.to(device)\n",
    "        with torch.no_grad():\n",
    "            reconstruction = model(img)\n",
    "\n",
    "        predict = reconstruction.argmax(1)\n",
    "        acc = (predict == reconstruction).float().mean().detach().cpu().numpy()\n",
    "        accs.append(acc)\n",
    "    print(np.mean(accs))"
   ]
  },
  {
   "cell_type": "code",
   "execution_count": null,
   "metadata": {},
   "outputs": [],
   "source": []
  },
  {
   "cell_type": "code",
   "execution_count": null,
   "metadata": {},
   "outputs": [],
   "source": []
  }
 ],
 "metadata": {
  "interpreter": {
   "hash": "2ad4e0469ff655657a3b1a317598f8ba440609ab5cab6b1c3669dc1b29d353ef"
  },
  "kernelspec": {
   "display_name": "Python 3.9.7 64-bit ('dlu': conda)",
   "language": "python",
   "name": "python3"
  },
  "language_info": {
   "codemirror_mode": {
    "name": "ipython",
    "version": 3
   },
   "file_extension": ".py",
   "mimetype": "text/x-python",
   "name": "python",
   "nbconvert_exporter": "python",
   "pygments_lexer": "ipython3",
   "version": "3.9.7"
  },
  "orig_nbformat": 4
 },
 "nbformat": 4,
 "nbformat_minor": 2
}
