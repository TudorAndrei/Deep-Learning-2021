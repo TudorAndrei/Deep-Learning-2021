{
 "cells": [
  {
   "cell_type": "code",
   "execution_count": 1,
   "id": "3e958f98",
   "metadata": {},
   "outputs": [],
   "source": [
    "import torch\n",
    "import numpy as np\n",
    "import cv2\n",
    "import glob\n",
    "import os\n",
    "\n",
    "device = torch.device('cuda')"
   ]
  },
  {
   "cell_type": "code",
   "execution_count": 2,
   "id": "ce44e42d",
   "metadata": {},
   "outputs": [],
   "source": [
    "class Model(torch.nn.Module):\n",
    "    def __init__(self):\n",
    "        super().__init__()\n",
    "        self.conv = torch.nn.Sequential(\n",
    "        \n",
    "        torch.nn.Conv2d(3,64, kernel_size=3, padding=2),\n",
    "        torch.nn.ReLU(),\n",
    "        torch.nn.MaxPool2d(2),\n",
    "            \n",
    "        torch.nn.Conv2d(64,64, kernel_size=5, padding=2),\n",
    "        torch.nn.ReLU(),\n",
    "        torch.nn.MaxPool2d(2),\n",
    "        )\n",
    "        \n",
    "        self.cls = torch.nn.Sequential(\n",
    "        torch.nn.Linear(64 * 7 *7, 128),\n",
    "        torch.nn.ReLU(),\n",
    "        torch.nn.Linear(128,10)\n",
    "        )\n",
    "        \n",
    "    def forward(self, x):\n",
    "        out = self.conv(x)\n",
    "        out = out.reshape(-1,64*7*7)\n",
    "        out = self.cls(out)\n",
    "        return out"
   ]
  },
  {
   "cell_type": "code",
   "execution_count": 3,
   "id": "5bc53982",
   "metadata": {},
   "outputs": [],
   "source": [
    "class Dataset(torch.utils.data.Dataset):\n",
    "    def __init__(self, path):\n",
    "        super().__init__()\n",
    "        self.image_paths = glob.glob(path)\n",
    "        self.n_samples = len(self.image_paths)\n",
    "    \n",
    "    def __getitem__(self, sample_n):\n",
    "        img_path = self.image_paths[sample_n]\n",
    "        img = cv2.imread(img_path)\n",
    "        label = int(os.path.basename(img_path).split(\"_\")[0])\n",
    "        return img, label\n",
    "        \n",
    "        \n",
    "    def __len__(self):\n",
    "        return self.n_samples"
   ]
  },
  {
   "cell_type": "code",
   "execution_count": 7,
   "id": "30828da7",
   "metadata": {},
   "outputs": [],
   "source": [
    "train_ds = Dataset(\"./mnist/train/*\")\n",
    "# train_dl = torch.utils.data.dataloader(train_ds, batch_size=32)\n",
    "train_dl = torch.utils.data.DataLoader(\n",
    "    train_ds,\n",
    "    batch_size=128,\n",
    "    shuffle=True,\n",
    "    num_workers=4\n",
    ")"
   ]
  },
  {
   "cell_type": "code",
   "execution_count": 10,
   "id": "4cf7e188",
   "metadata": {},
   "outputs": [],
   "source": [
    "val_ds = Dataset(\"./mnist/val/*\")\n",
    "# train_dl = torch.utils.data.dataloader(train_ds, batch_size=32)\n",
    "val_dl = torch.utils.data.DataLoader(\n",
    "    val_ds,\n",
    "    batch_size=128,\n",
    "    shuffle=True,\n",
    "    num_workers=4\n",
    ")"
   ]
  },
  {
   "cell_type": "code",
   "execution_count": 8,
   "id": "e72c082b",
   "metadata": {},
   "outputs": [],
   "source": [
    "model = Model().to(device)\n",
    "optimizer = torch.optim.Adam(model.parameters())\n",
    "lossf = torch.nn.CrossEntropyLoss()"
   ]
  },
  {
   "cell_type": "code",
   "execution_count": null,
   "id": "ac6a8f52",
   "metadata": {},
   "outputs": [
    {
     "name": "stdout",
     "output_type": "stream",
     "text": [
      "0.9783203\n"
     ]
    },
    {
     "name": "stderr",
     "output_type": "stream",
     "text": [
      "Exception ignored in: <function _releaseLock at 0x7f1ec0efb5e0>\n",
      "Traceback (most recent call last):\n",
      "  File \"/home/tudor/.miniconda3/envs/dlu/lib/python3.9/logging/__init__.py\", line 227, in _releaseLock\n",
      "    def _releaseLock():\n",
      "KeyboardInterrupt: \n",
      "Exception ignored in sys.unraisablehook: <built-in function unraisablehook>\n",
      "Traceback (most recent call last):\n",
      "  File \"/home/tudor/.miniconda3/envs/dlu/lib/python3.9/site-packages/ipykernel/iostream.py\", line 466, in flush\n",
      "    if not evt.wait(self.flush_timeout):\n",
      "  File \"/home/tudor/.miniconda3/envs/dlu/lib/python3.9/threading.py\", line 574, in wait\n",
      "    KeyboardInterruptERROR:root:Internal Python error in the inspect module.\n",
      "Below is the traceback from this internal error.\n",
      "\n",
      "\n",
      "KeyboardInterrupt\n",
      "\n",
      "Exception ignored in: <function _releaseLock at 0x7f1ec0efb5e0>\n",
      "Traceback (most recent call last):\n",
      "  File \"/home/tudor/.miniconda3/envs/dlu/lib/python3.9/logging/__init__.py\", line 227, in _releaseLock\n",
      "    def _releaseLock():\n",
      "KeyboardInterrupt: \n"
     ]
    }
   ],
   "source": [
    "epochs = 10\n",
    "\n",
    "for epoch in range(epochs):\n",
    "    for img, label in train_dl:\n",
    "        \n",
    "        optimizer.zero_grad()     \n",
    "        \n",
    "        img = img.float().to(device).permute(0,3,1,2)\n",
    "        label = label.to(device)\n",
    "        \n",
    "        output = model(img)\n",
    "        \n",
    "        loss = lossf(output, label)\n",
    "        loss.backward()\n",
    "        \n",
    "        optimizer.step()\n",
    "    accs = []\n",
    "    for batch in val_dl:\n",
    "\n",
    "        img, label = batch\n",
    "        img = img.float().to(device).permute(0,3,1,2)\n",
    "        label = label.to(device)\n",
    "        with torch.no_grad():\n",
    "            output = model(img)\n",
    "\n",
    "        predict = output.argmax(1)\n",
    "        acc = (predict == label).float().mean().detach().cpu().numpy()\n",
    "        accs.append(acc)\n",
    "    print(np.mean(accs))"
   ]
  }
 ],
 "metadata": {
  "interpreter": {
   "hash": "083e8d8b437b31bd80b002b4dfb9869f07effbefb6d59f7042b983694f35a0d4"
  },
  "kernelspec": {
   "display_name": "Python 3 (ipykernel)",
   "language": "python",
   "name": "python3"
  },
  "language_info": {
   "codemirror_mode": {
    "name": "ipython",
    "version": 3
   },
   "file_extension": ".py",
   "mimetype": "text/x-python",
   "name": "python",
   "nbconvert_exporter": "python",
   "pygments_lexer": "ipython3",
   "version": "3.9.7"
  }
 },
 "nbformat": 4,
 "nbformat_minor": 5
}
