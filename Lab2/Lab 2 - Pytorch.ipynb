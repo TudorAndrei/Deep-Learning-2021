{
 "cells": [
  {
   "cell_type": "code",
   "execution_count": 1,
   "id": "0114eaeb",
   "metadata": {},
   "outputs": [],
   "source": [
    "from tqdm.notebook import tqdm\n",
    "import pickle\n",
    "import numpy as np\n",
    "import torch"
   ]
  },
  {
   "cell_type": "markdown",
   "id": "7661d368",
   "metadata": {
    "colab_type": "text",
    "id": "mLOCk6P-fldm"
   },
   "source": [
    "## Task I: Word-based CNN for Text Classification\n",
    "\n",
    "### 1. Data\n",
    "\n",
    "The dataset that we are going to use is the imdb dataset of movie reviews. These are labelled by sentiment (positive/negative). \n",
    "\n",
    "The reviews have been preprocessed, and each review is encoded as a sequence of word indexes (integers). \n",
    "\n",
    "For convenience, words are indexed by overall frequency in the dataset, so that for instance the integer \"3\" encodes the 3rd most frequent word in the data. This allows for quick filtering operations such as: \"only consider the top 10,000 most common words, but eliminate the top 20 most common words\".\n",
    "\n",
    "More information regarding the dataset can be found in the official [documentation](https://keras.io/datasets/#imdb-movie-reviews-sentiment-classification).\n"
   ]
  },
  {
   "cell_type": "code",
   "execution_count": 2,
   "id": "2edd1c31",
   "metadata": {},
   "outputs": [
    {
     "name": "stdout",
     "output_type": "stream",
     "text": [
      "25000 train sequences\n",
      "25000 test sequences\n"
     ]
    }
   ],
   "source": [
    "# Load the data\n",
    "train_samples, train_labels, test_samples, test_labels = pickle.load(open('./imdb.pkl', 'rb'))\n",
    "\n",
    "print(len(train_samples), 'train sequences')\n",
    "print(len(test_samples), 'test sequences')"
   ]
  },
  {
   "cell_type": "markdown",
   "id": "c49ed573",
   "metadata": {
    "colab_type": "text",
    "id": "iWg-G68bh2uI"
   },
   "source": [
    "### 2. Preprocess the text data \n",
    "\n",
    "In this particular case, where we are using the imdb dataset there is no need to do all the traditional preprocessings that we normally do when dealing with NLP problems. Part of them are already done at this point.\n",
    "\n",
    "  - Split the dataset in train and test (maybe also validation).\n",
    "  - Tokenize and transform to integer index. Here we would need to: \n",
    "    - instantitate a *Tokenizer()* object, \n",
    "    - fit that object on the text on which we are training the model (use the *fit_on_texts()* method)\n",
    "    - call *texts_to_sequences()* for both the training and the test text.\n",
    "\n",
    "  - **Add padding to ensure that all vectors have the same dimensionality.** Note that this is the only pre-processing that needs to be done in the case of the current imdb dataset."
   ]
  },
  {
   "cell_type": "code",
   "execution_count": 3,
   "id": "b345b0dd",
   "metadata": {
    "scrolled": true
   },
   "outputs": [
    {
     "name": "stdout",
     "output_type": "stream",
     "text": [
      "train_samples shape: (25000, 1000)\n",
      "test_samples shape: (25000, 1000)\n"
     ]
    }
   ],
   "source": [
    "desired_length = 1000\n",
    "\n",
    "# TODO 2. Pad sequences\n",
    "\n",
    "# define a function that receives a set of samples and a desired length and:\n",
    "# 1. cuts all sequences longer than the desired length to the desired length\n",
    "# (one improvement would be to perform this action in the torch dataset and feed a random subseqence \n",
    "# of the desired length each time)\n",
    "# 2. pad shorter sequences with the value 10001\n",
    "\n",
    "def pad(samples, length):\n",
    "    return np.array([\n",
    "        sample[:length] if len(sample) > length else list(sample) + [10001]*(length - len(sample))\n",
    "        for sample in samples]\n",
    "    )\n",
    "\n",
    "\n",
    "train_samples = pad(train_samples, desired_length)\n",
    "test_samples = pad(test_samples, desired_length)\n",
    "\n",
    "print('train_samples shape:', train_samples.shape)\n",
    "print('test_samples shape:', test_samples.shape)"
   ]
  },
  {
   "cell_type": "markdown",
   "id": "1fa83576",
   "metadata": {
    "colab_type": "text",
    "id": "DtIeukSXltKp"
   },
   "source": [
    "### 3.  Define the model de dataset and the training loop\n",
    "\n",
    "Similar to the privious lab while following the model architecture described in the comments."
   ]
  },
  {
   "cell_type": "code",
   "execution_count": 4,
   "id": "0f749dc3",
   "metadata": {},
   "outputs": [],
   "source": [
    "class Model(torch.nn.Module):\n",
    "    def __init__(self):\n",
    "        super().__init__()\n",
    "        \n",
    "        # Define an embedding layer with a vocabulary size of 10002\n",
    "        # an output embedding size of 100\n",
    "        # and a padding_idx equal to the one used - 10001\n",
    "        self.embedding = torch.nn.Embedding(10002, 100, 10001)\n",
    "        self.drop = torch.nn.Dropout(0.4)\n",
    "        self.conv1 = torch.nn.Sequential(\n",
    "        # A 1D Convolutional layer with 100 input channels, 128 output channels, kernel size of 3 and a padding of 1\n",
    "        # A 1D Batch Normalization Layer for 128 features\n",
    "        # A ReLU activation\n",
    "        # A 1D Maxpooling layer with size 2\n",
    "            torch.nn.Conv1d(100, 128, 3, padding=1),\n",
    "            torch.nn.BatchNorm1d(128),\n",
    "            torch.nn.ReLU(),\n",
    "            torch.nn.MaxPool1d(2))\n",
    "        self.conv2 = torch.nn.Sequential(\n",
    "\n",
    "        # A 1D Convolutional layer with 128 input channels, 128 output channels, kernel size of 5 and a padding of 2\n",
    "        # A 1D Batch Normalization Layer for 128 features\n",
    "        # A ReLU activation\n",
    "        # A 1D Maxpooling layer with size 2\n",
    "            torch.nn.Conv1d(128, 128, 5, padding=2),\n",
    "            torch.nn.BatchNorm1d(128),\n",
    "            torch.nn.ReLU(),\n",
    "            torch.nn.MaxPool1d(2))\n",
    "        self.conv3 = torch.nn.Sequential(\n",
    "        \n",
    "        # A 1D Convolutional layer with 128 input channels, 128 output channels, kernel size of 5 and a padding of 2\n",
    "        # A 1D Batch Normalization Layer for 128 features\n",
    "        # A ReLU activation\n",
    "        # A 1D Maxpooling layer with size 2\n",
    "            torch.nn.Conv1d(128, 128, 5, padding=2),\n",
    "            torch.nn.BatchNorm1d(128),\n",
    "            torch.nn.ReLU(),\n",
    "            torch.nn.MaxPool1d(2))\n",
    "\n",
    "\n",
    "        # A global Average pooling layer, which in this scenario, will be an 1D Avgerage Pooling layer\n",
    "        # with size 125 and stride 125\n",
    "        self.avg = torch.nn.AvgPool1d(125,125)\n",
    "        # A Flattening layer\n",
    "        self.flat =    torch.nn.Flatten()\n",
    "        # A Linear layer with 128 input features and 2 outputs and no activation function\n",
    "        self.lin =     torch.nn.Linear(128, 2)\n",
    "        \n",
    "    def forward(self, input):\n",
    "        # forward the input through the embedding layer\n",
    "        out = self.embedding(input)\n",
    "        out = self.drop(out)\n",
    "        # permute the input such that it becomes channels first\n",
    "        out = out.permute(0,2,1)\n",
    "\n",
    "        # print(out.shape)\n",
    "        # forward the input through the rest of the sequence of layers\n",
    "        out = self.conv1(out)\n",
    "        # print(out.shape)\n",
    "        out = self.conv2(out)\n",
    "        # print(out.shape)\n",
    "        out = self.conv3(out)\n",
    "        # print(out.shape)\n",
    "        out = self.avg(out)\n",
    "        # print(out.shape)\n",
    "        out = self.flat(out)\n",
    "        # print(out.shape)\n",
    "        out = self.lin(out)\n",
    "        return out\n",
    "        \n"
   ]
  },
  {
   "cell_type": "code",
   "execution_count": 5,
   "id": "98d6d2dc",
   "metadata": {},
   "outputs": [],
   "source": [
    "        \n",
    "# define a dataset class that feeds the samples from train or test, depending on the use case\n",
    "class Dataset(torch.utils.data.Dataset):\n",
    "    def __init__(self, use = 'train'):\n",
    "        if use == 'train':\n",
    "            \n",
    "            self.data = train_samples\n",
    "            self.labels = train_labels\n",
    "        elif use == 'test':\n",
    "            self.data = test_samples\n",
    "            self.labels = test_labels\n",
    "            \n",
    "    def __getitem__(self, sample_n):\n",
    "        return self.data[sample_n], self.labels[sample_n]\n",
    "    \n",
    "    def __len__(self):\n",
    "        return self.data.shape[0]\n",
    "device = torch.device('cuda')\n",
    "# instantiate the model\n",
    "model = Model()\n",
    "model.to(device)\n",
    "# define an Adam optimizer for the model with a lr of 1e-3\n",
    "optimizer = torch.optim.Adam(model.parameters(),lr=1e-3)\n",
    "# define a Cross Entropy loss function\n",
    "loss_func = torch.nn.CrossEntropyLoss()\n",
    "\n",
    "# define the training dataset and dataloader and the test dataset and dataloader\n",
    "train_ds = Dataset()\n",
    "train_dl = torch.utils.data.DataLoader(train_ds, batch_size=64)\n",
    "test_ds = Dataset(use='test')\n",
    "test_dl = torch.utils.data.DataLoader(test_ds, batch_size=64)\n",
    "\n",
    "# write the training loop as defined in Lab 1 and train the model"
   ]
  },
  {
   "cell_type": "code",
   "execution_count": 6,
   "id": "02511c04",
   "metadata": {},
   "outputs": [],
   "source": [
    "def train(model, optimizer, loss_func, dl, val_dl, epochs):\n",
    "  \n",
    "    for epoch in tqdm(range(epochs)):\n",
    "        for img, label in tqdm(train_dl):\n",
    "            \n",
    "            optimizer.zero_grad()     \n",
    "            \n",
    "            img = img.to(device)\n",
    "            label = label.to(device)\n",
    "            \n",
    "            output = model(img)\n",
    "            \n",
    "            loss = loss_func(output, label)\n",
    "            loss.backward()\n",
    "            optimizer.step()\n",
    "        accs = []\n",
    "        # return\n",
    "        for batch in val_dl:\n",
    "\n",
    "            img, label = batch\n",
    "            img = img.to(device)\n",
    "            label = label.to(device)\n",
    "            with torch.no_grad():\n",
    "                output = model(img)\n",
    "\n",
    "            predict = output.argmax(1)\n",
    "            acc = (predict == label).float().mean().detach().cpu().numpy()\n",
    "            accs.append(acc)\n",
    "        print(f{np.mean(accs):.3f})"
   ]
  },
  {
   "cell_type": "code",
   "execution_count": 7,
   "metadata": {},
   "outputs": [
    {
     "data": {
      "application/vnd.jupyter.widget-view+json": {
       "model_id": "b8db37565f274f809963d3e2fbf3b748",
       "version_major": 2,
       "version_minor": 0
      },
      "text/plain": [
       "  0%|          | 0/2 [00:00<?, ?it/s]"
      ]
     },
     "metadata": {},
     "output_type": "display_data"
    },
    {
     "data": {
      "application/vnd.jupyter.widget-view+json": {
       "model_id": "570a6ea0eee74ef5bab1e4a984a7cbdd",
       "version_major": 2,
       "version_minor": 0
      },
      "text/plain": [
       "  0%|          | 0/391 [00:00<?, ?it/s]"
      ]
     },
     "metadata": {},
     "output_type": "display_data"
    },
    {
     "name": "stdout",
     "output_type": "stream",
     "text": [
      "0.8065218\n"
     ]
    },
    {
     "data": {
      "application/vnd.jupyter.widget-view+json": {
       "model_id": "7ca32461d1d04a7b97bd1e932767207c",
       "version_major": 2,
       "version_minor": 0
      },
      "text/plain": [
       "  0%|          | 0/391 [00:00<?, ?it/s]"
      ]
     },
     "metadata": {},
     "output_type": "display_data"
    },
    {
     "name": "stdout",
     "output_type": "stream",
     "text": [
      "0.8435023\n"
     ]
    }
   ],
   "source": [
    "train(model, optimizer, loss_func, train_dl, test_dl, 2)"
   ]
  },
  {
   "cell_type": "code",
   "execution_count": null,
   "metadata": {},
   "outputs": [],
   "source": []
  },
  {
   "cell_type": "code",
   "execution_count": null,
   "metadata": {},
   "outputs": [],
   "source": []
  }
 ],
 "metadata": {
  "interpreter": {
   "hash": "60755b1b8d5ac717e003f2f82c3fbba2472178dfc407cdd7053090270d06174d"
  },
  "kernelspec": {
   "display_name": "Python 3.9.7 64-bit ('dlu': conda)",
   "name": "python3"
  },
  "language_info": {
   "codemirror_mode": {
    "name": "ipython",
    "version": 3
   },
   "file_extension": ".py",
   "mimetype": "text/x-python",
   "name": "python",
   "nbconvert_exporter": "python",
   "pygments_lexer": "ipython3",
   "version": "3.9.7"
  }
 },
 "nbformat": 4,
 "nbformat_minor": 5
}
