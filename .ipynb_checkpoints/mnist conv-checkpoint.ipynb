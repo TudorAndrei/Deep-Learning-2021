{
 "cells": [
  {
   "cell_type": "code",
   "execution_count": 28,
   "id": "3e958f98",
   "metadata": {},
   "outputs": [],
   "source": [
    "import torch\n",
    "import numpy as np\n",
    "import cv2\n",
    "import glob\n",
    "import os\n",
    "\n",
    "device = torch.device('cuda')"
   ]
  },
  {
   "cell_type": "code",
   "execution_count": 23,
   "id": "ce44e42d",
   "metadata": {},
   "outputs": [],
   "source": [
    "class Model(torch.nn.Module):\n",
    "    def __init__(self):\n",
    "        super().__init__()\n",
    "        self.conv = torch.nn.Sequential(\n",
    "        \n",
    "        torch.nn.Conv2d(3,64, kernel_size=3, padding=2),\n",
    "        torch.nn.ReLU(),\n",
    "        torch.nn.MaxPool2d(2),\n",
    "            \n",
    "        torch.nn.Conv2d(64,64, kernel_size=5, padding=2),\n",
    "        torch.nn.ReLU(),\n",
    "        torch.nn.MaxPool2d(2),\n",
    "        )\n",
    "        \n",
    "        self.cls = torch.nn.Sequential(\n",
    "        torch.nn.Linear(64 * 7 *7, 128),\n",
    "        torch.nn.ReLU(),\n",
    "        torch.nn.Linear(128,10)\n",
    "        )\n",
    "        \n",
    "    def forward(self, x):\n",
    "        out = self.conv(x)\n",
    "        out = out.reshape(-1,64*7*7)\n",
    "        out = self.cls(out)\n",
    "        return out"
   ]
  },
  {
   "cell_type": "code",
   "execution_count": 29,
   "id": "5bc53982",
   "metadata": {},
   "outputs": [],
   "source": [
    "class Dataset(torch.utils.data.Dataset):\n",
    "    def __init__(self, path):\n",
    "        self.image_paths = glob.glob(path)\n",
    "        self.n_samples = len(self.image_paths)\n",
    "    \n",
    "    def __getitem__(self, sample_n):\n",
    "        img_path = self.image_paths[sample_n]\n",
    "        img = cv2.imread(img_path)\n",
    "        label = int(os.path.basename(img_path).split(\"_\")[0])\n",
    "        return img, label\n",
    "        \n",
    "        \n",
    "    def __len__(self):\n",
    "        return self.n_samples"
   ]
  },
  {
   "cell_type": "code",
   "execution_count": 32,
   "id": "30828da7",
   "metadata": {},
   "outputs": [
    {
     "name": "stdout",
     "output_type": "stream",
     "text": [
      "(array([[[0, 0, 0],\n",
      "        [0, 0, 0],\n",
      "        [0, 0, 0],\n",
      "        ...,\n",
      "        [0, 0, 0],\n",
      "        [0, 0, 0],\n",
      "        [0, 0, 0]],\n",
      "\n",
      "       [[0, 0, 0],\n",
      "        [0, 0, 0],\n",
      "        [0, 0, 0],\n",
      "        ...,\n",
      "        [0, 0, 0],\n",
      "        [0, 0, 0],\n",
      "        [0, 0, 0]],\n",
      "\n",
      "       [[0, 0, 0],\n",
      "        [0, 0, 0],\n",
      "        [0, 0, 0],\n",
      "        ...,\n",
      "        [0, 0, 0],\n",
      "        [0, 0, 0],\n",
      "        [0, 0, 0]],\n",
      "\n",
      "       ...,\n",
      "\n",
      "       [[0, 0, 0],\n",
      "        [0, 0, 0],\n",
      "        [0, 0, 0],\n",
      "        ...,\n",
      "        [0, 0, 0],\n",
      "        [0, 0, 0],\n",
      "        [0, 0, 0]],\n",
      "\n",
      "       [[0, 0, 0],\n",
      "        [0, 0, 0],\n",
      "        [0, 0, 0],\n",
      "        ...,\n",
      "        [0, 0, 0],\n",
      "        [0, 0, 0],\n",
      "        [0, 0, 0]],\n",
      "\n",
      "       [[0, 0, 0],\n",
      "        [0, 0, 0],\n",
      "        [0, 0, 0],\n",
      "        ...,\n",
      "        [0, 0, 0],\n",
      "        [0, 0, 0],\n",
      "        [0, 0, 0]]], dtype=uint8), 5)\n"
     ]
    }
   ],
   "source": [
    "train_ds = Dataset(\"./mnist/train/*\")\n",
    "# train_dl = torch.utils.data.dataloader(train_ds, batch_size=32)\n",
    "sample = train_ds[0]\n",
    "print(sample)"
   ]
  },
  {
   "cell_type": "code",
   "execution_count": 24,
   "id": "e72c082b",
   "metadata": {},
   "outputs": [],
   "source": [
    "model = Model().to(device)"
   ]
  },
  {
   "cell_type": "code",
   "execution_count": 25,
   "id": "82d88bad",
   "metadata": {},
   "outputs": [],
   "source": [
    "epochs = 10\n",
    "\n",
    "\n",
    "\n",
    "for "
   ]
  },
  {
   "cell_type": "code",
   "execution_count": null,
   "id": "d3a694ce",
   "metadata": {},
   "outputs": [],
   "source": []
  }
 ],
 "metadata": {
  "kernelspec": {
   "display_name": "Python 3 (ipykernel)",
   "language": "python",
   "name": "python3"
  },
  "language_info": {
   "codemirror_mode": {
    "name": "ipython",
    "version": 3
   },
   "file_extension": ".py",
   "mimetype": "text/x-python",
   "name": "python",
   "nbconvert_exporter": "python",
   "pygments_lexer": "ipython3",
   "version": "3.9.7"
  }
 },
 "nbformat": 4,
 "nbformat_minor": 5
}
